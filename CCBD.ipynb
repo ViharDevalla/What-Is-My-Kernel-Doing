{
  "nbformat": 4,
  "nbformat_minor": 0,
  "metadata": {
    "colab": {
      "name": "CCBD.ipynb",
      "provenance": [],
      "collapsed_sections": [],
      "toc_visible": true
    },
    "kernelspec": {
      "name": "python3",
      "display_name": "Python 3"
    },
    "language_info": {
      "name": "python"
    }
  },
  "cells": [
    {
      "cell_type": "markdown",
      "metadata": {
        "id": "MxE4mslO_GLN"
      },
      "source": [
        "#DATA PREPROCESSING"
      ]
    },
    {
      "cell_type": "code",
      "metadata": {
        "id": "YvqCFf8uxThn"
      },
      "source": [
        "import numpy as np\n",
        "import pandas as pd \n",
        "import seaborn as sns\n",
        "import matplotlib.pyplot as plt"
      ],
      "execution_count": null,
      "outputs": []
    },
    {
      "cell_type": "code",
      "metadata": {
        "id": "cBNOCZTY8grR",
        "colab": {
          "base_uri": "https://localhost:8080/"
        },
        "outputId": "3d4b6b86-f910-4189-e650-3f2df1c9f20c"
      },
      "source": [
        "!wget https://raw.githubusercontent.com/aasimmd/What-Is-My-Kernel-Doing/main/LibreOffice.csv?token=AMPMBOOOSKFTVHFD4CKDRHTAUOJWC -O LibreOffice.csv\n",
        "!wget https://raw.githubusercontent.com/aasimmd/What-Is-My-Kernel-Doing/main/bashtrace.csv?token=AMPMBOOAHEOW6Z7PPSOQ6H3AUOKJ6 -O bashtrace.csv\n",
        "!wget https://raw.githubusercontent.com/aasimmd/What-Is-My-Kernel-Doing/main/firefox.csv?token=AMPMBOJZAOJOJ5EXVH4D7JDAUOJ4Q -O firefox.csv\n",
        "!wget https://raw.githubusercontent.com/aasimmd/What-Is-My-Kernel-Doing/main/reddis.csv?token=AMPMBOI6UVPHFYKZZUF6RX3AUOJ6E -O reddis.csv\n",
        "!wget https://raw.githubusercontent.com/aasimmd/What-Is-My-Kernel-Doing/main/reddis_make123.csv?token=AMPMBOOAXT4STRZDCEZ7YSDAUOKNM -O reddismake.csv\n",
        "!wget https://raw.githubusercontent.com/aasimmd/What-Is-My-Kernel-Doing/main/script_lockstat.csv?token=AMPMBOMWWP3IVO7AMHE4ZKLAUOLUY -O lockstat.csv\n",
        "!wget https://raw.githubusercontent.com/aasimmd/What-Is-My-Kernel-Doing/main/firefox_lockstat.csv?token=AMPMBONSONXL2YA5AFYV46DAUOSPK -O firefox_lockstat.csv\n",
        "!wget https://raw.githubusercontent.com/aasimmd/What-Is-My-Kernel-Doing/main/redisbenchmark_lockstat.csv?token=AMPMBOKVUAS7OSNVLXMBUZ3AUOSTE -O redisbenchmark_lockstat.csv\n",
        "!wget https://raw.githubusercontent.com/aasimmd/What-Is-My-Kernel-Doing/main/rediscompile_lockstat.csv?token=AMPMBOMBHDZZ6MX7SKD5TVLAUOS3S -O rediscompile_lockstat.csv\n",
        "!wget https://raw.githubusercontent.com/aasimmd/What-Is-My-Kernel-Doing/main/libreofficewriter_lockstat.csv?token=AMPMBOOZ4IVS72CAXH5ZYGLAUOS54 -O libreofficewriter_lockstat.csv"
      ],
      "execution_count": null,
      "outputs": [
        {
          "output_type": "stream",
          "text": [
            "--2021-05-11 12:46:37--  https://raw.githubusercontent.com/aasimmd/What-Is-My-Kernel-Doing/main/LibreOffice.csv?token=AMPMBOOOSKFTVHFD4CKDRHTAUOJWC\n",
            "Resolving raw.githubusercontent.com (raw.githubusercontent.com)... 185.199.108.133, 185.199.109.133, 185.199.110.133, ...\n",
            "Connecting to raw.githubusercontent.com (raw.githubusercontent.com)|185.199.108.133|:443... connected.\n",
            "HTTP request sent, awaiting response... 200 OK\n",
            "Length: 1638 (1.6K) [text/plain]\n",
            "Saving to: ‘LibreOffice.csv’\n",
            "\n",
            "\rLibreOffice.csv       0%[                    ]       0  --.-KB/s               \rLibreOffice.csv     100%[===================>]   1.60K  --.-KB/s    in 0s      \n",
            "\n",
            "2021-05-11 12:46:37 (23.7 MB/s) - ‘LibreOffice.csv’ saved [1638/1638]\n",
            "\n",
            "--2021-05-11 12:46:38--  https://raw.githubusercontent.com/aasimmd/What-Is-My-Kernel-Doing/main/bashtrace.csv?token=AMPMBOOAHEOW6Z7PPSOQ6H3AUOKJ6\n",
            "Resolving raw.githubusercontent.com (raw.githubusercontent.com)... 185.199.108.133, 185.199.111.133, 185.199.109.133, ...\n",
            "Connecting to raw.githubusercontent.com (raw.githubusercontent.com)|185.199.108.133|:443... connected.\n",
            "HTTP request sent, awaiting response... 200 OK\n",
            "Length: 583 [text/plain]\n",
            "Saving to: ‘bashtrace.csv’\n",
            "\n",
            "bashtrace.csv       100%[===================>]     583  --.-KB/s    in 0s      \n",
            "\n",
            "2021-05-11 12:46:38 (27.1 MB/s) - ‘bashtrace.csv’ saved [583/583]\n",
            "\n",
            "--2021-05-11 12:46:38--  https://raw.githubusercontent.com/aasimmd/What-Is-My-Kernel-Doing/main/firefox.csv?token=AMPMBOJZAOJOJ5EXVH4D7JDAUOJ4Q\n",
            "Resolving raw.githubusercontent.com (raw.githubusercontent.com)... 185.199.108.133, 185.199.109.133, 185.199.110.133, ...\n",
            "Connecting to raw.githubusercontent.com (raw.githubusercontent.com)|185.199.108.133|:443... connected.\n",
            "HTTP request sent, awaiting response... 200 OK\n",
            "Length: 1256 (1.2K) [text/plain]\n",
            "Saving to: ‘firefox.csv’\n",
            "\n",
            "firefox.csv         100%[===================>]   1.23K  --.-KB/s    in 0s      \n",
            "\n",
            "2021-05-11 12:46:38 (80.4 MB/s) - ‘firefox.csv’ saved [1256/1256]\n",
            "\n",
            "--2021-05-11 12:46:38--  https://raw.githubusercontent.com/aasimmd/What-Is-My-Kernel-Doing/main/reddis.csv?token=AMPMBOI6UVPHFYKZZUF6RX3AUOJ6E\n",
            "Resolving raw.githubusercontent.com (raw.githubusercontent.com)... 185.199.109.133, 185.199.110.133, 185.199.108.133, ...\n",
            "Connecting to raw.githubusercontent.com (raw.githubusercontent.com)|185.199.109.133|:443... connected.\n",
            "HTTP request sent, awaiting response... 200 OK\n",
            "Length: 546 [text/plain]\n",
            "Saving to: ‘reddis.csv’\n",
            "\n",
            "reddis.csv          100%[===================>]     546  --.-KB/s    in 0s      \n",
            "\n",
            "2021-05-11 12:46:39 (26.0 MB/s) - ‘reddis.csv’ saved [546/546]\n",
            "\n",
            "--2021-05-11 12:46:39--  https://raw.githubusercontent.com/aasimmd/What-Is-My-Kernel-Doing/main/reddis_make123.csv?token=AMPMBOOAXT4STRZDCEZ7YSDAUOKNM\n",
            "Resolving raw.githubusercontent.com (raw.githubusercontent.com)... 185.199.108.133, 185.199.109.133, 185.199.110.133, ...\n",
            "Connecting to raw.githubusercontent.com (raw.githubusercontent.com)|185.199.108.133|:443... connected.\n",
            "HTTP request sent, awaiting response... 200 OK\n",
            "Length: 549 [text/plain]\n",
            "Saving to: ‘reddismake.csv’\n",
            "\n",
            "reddismake.csv      100%[===================>]     549  --.-KB/s    in 0s      \n",
            "\n",
            "2021-05-11 12:46:39 (24.9 MB/s) - ‘reddismake.csv’ saved [549/549]\n",
            "\n",
            "--2021-05-11 12:46:39--  https://raw.githubusercontent.com/aasimmd/What-Is-My-Kernel-Doing/main/script_lockstat.csv?token=AMPMBOMWWP3IVO7AMHE4ZKLAUOLUY\n",
            "Resolving raw.githubusercontent.com (raw.githubusercontent.com)... 185.199.110.133, 185.199.108.133, 185.199.111.133, ...\n",
            "Connecting to raw.githubusercontent.com (raw.githubusercontent.com)|185.199.110.133|:443... connected.\n",
            "HTTP request sent, awaiting response... 200 OK\n",
            "Length: 20386 (20K) [text/plain]\n",
            "Saving to: ‘lockstat.csv’\n",
            "\n",
            "lockstat.csv        100%[===================>]  19.91K  --.-KB/s    in 0.001s  \n",
            "\n",
            "2021-05-11 12:46:39 (32.8 MB/s) - ‘lockstat.csv’ saved [20386/20386]\n",
            "\n",
            "--2021-05-11 12:46:39--  https://raw.githubusercontent.com/aasimmd/What-Is-My-Kernel-Doing/main/firefox_lockstat.csv?token=AMPMBONSONXL2YA5AFYV46DAUOSPK\n",
            "Resolving raw.githubusercontent.com (raw.githubusercontent.com)... 185.199.110.133, 185.199.108.133, 185.199.111.133, ...\n",
            "Connecting to raw.githubusercontent.com (raw.githubusercontent.com)|185.199.110.133|:443... connected.\n",
            "HTTP request sent, awaiting response... 200 OK\n",
            "Length: 37925 (37K) [text/plain]\n",
            "Saving to: ‘firefox_lockstat.csv’\n",
            "\n",
            "firefox_lockstat.cs 100%[===================>]  37.04K  --.-KB/s    in 0.002s  \n",
            "\n",
            "2021-05-11 12:46:40 (22.3 MB/s) - ‘firefox_lockstat.csv’ saved [37925/37925]\n",
            "\n",
            "--2021-05-11 12:46:40--  https://raw.githubusercontent.com/aasimmd/What-Is-My-Kernel-Doing/main/redisbenchmark_lockstat.csv?token=AMPMBOKVUAS7OSNVLXMBUZ3AUOSTE\n",
            "Resolving raw.githubusercontent.com (raw.githubusercontent.com)... 185.199.108.133, 185.199.109.133, 185.199.110.133, ...\n",
            "Connecting to raw.githubusercontent.com (raw.githubusercontent.com)|185.199.108.133|:443... connected.\n",
            "HTTP request sent, awaiting response... 200 OK\n",
            "Length: 32434 (32K) [text/plain]\n",
            "Saving to: ‘redisbenchmark_lockstat.csv’\n",
            "\n",
            "redisbenchmark_lock 100%[===================>]  31.67K  --.-KB/s    in 0.002s  \n",
            "\n",
            "2021-05-11 12:46:40 (20.5 MB/s) - ‘redisbenchmark_lockstat.csv’ saved [32434/32434]\n",
            "\n",
            "--2021-05-11 12:46:40--  https://raw.githubusercontent.com/aasimmd/What-Is-My-Kernel-Doing/main/rediscompile_lockstat.csv?token=AMPMBOMBHDZZ6MX7SKD5TVLAUOS3S\n",
            "Resolving raw.githubusercontent.com (raw.githubusercontent.com)... 185.199.108.133, 185.199.109.133, 185.199.110.133, ...\n",
            "Connecting to raw.githubusercontent.com (raw.githubusercontent.com)|185.199.108.133|:443... connected.\n",
            "HTTP request sent, awaiting response... 200 OK\n",
            "Length: 36141 (35K) [text/plain]\n",
            "Saving to: ‘rediscompile_lockstat.csv’\n",
            "\n",
            "rediscompile_lockst 100%[===================>]  35.29K  --.-KB/s    in 0.002s  \n",
            "\n",
            "2021-05-11 12:46:40 (13.8 MB/s) - ‘rediscompile_lockstat.csv’ saved [36141/36141]\n",
            "\n",
            "--2021-05-11 12:46:40--  https://raw.githubusercontent.com/aasimmd/What-Is-My-Kernel-Doing/main/libreofficewriter_lockstat.csv?token=AMPMBOOZ4IVS72CAXH5ZYGLAUOS54\n",
            "Resolving raw.githubusercontent.com (raw.githubusercontent.com)... 185.199.110.133, 185.199.108.133, 185.199.111.133, ...\n",
            "Connecting to raw.githubusercontent.com (raw.githubusercontent.com)|185.199.110.133|:443... connected.\n",
            "HTTP request sent, awaiting response... 200 OK\n",
            "Length: 39635 (39K) [text/plain]\n",
            "Saving to: ‘libreofficewriter_lockstat.csv’\n",
            "\n",
            "libreofficewriter_l 100%[===================>]  38.71K  --.-KB/s    in 0.002s  \n",
            "\n",
            "2021-05-11 12:46:41 (19.2 MB/s) - ‘libreofficewriter_lockstat.csv’ saved [39635/39635]\n",
            "\n"
          ],
          "name": "stdout"
        }
      ]
    },
    {
      "cell_type": "code",
      "metadata": {
        "id": "EFp3kaTdwEos"
      },
      "source": [
        "bashtrace = pd.read_csv('bashtrace.csv').fillna(0)\n",
        "firefox = pd.read_csv('firefox.csv').fillna(0)\n",
        "reddis = pd.read_csv('reddis.csv').fillna(0)\n",
        "LibreOffice = pd.read_csv('LibreOffice.csv').fillna(0)\n",
        "red_make=pd.read_csv('reddismake.csv').fillna(0)\n",
        "bash_lock=pd.read_csv('lockstat.csv').fillna(0)\n",
        "firefox_lockstat = pd.read_csv('firefox_lockstat.csv').fillna(0)\n",
        "redisbenchmark_lockstat = pd.read_csv('redisbenchmark_lockstat.csv').fillna(0)\n",
        "libreofficewriter_lockstat = pd.read_csv('libreofficewriter_lockstat.csv').fillna(0)\n",
        "rediscompile_lockstat = pd.read_csv('rediscompile_lockstat.csv').fillna(0)"
      ],
      "execution_count": null,
      "outputs": []
    },
    {
      "cell_type": "code",
      "metadata": {
        "colab": {
          "base_uri": "https://localhost:8080/",
          "height": 610
        },
        "id": "4E80SG30B3B6",
        "outputId": "c24a50b0-b54a-43ff-fb74-0ecae5952a92"
      },
      "source": [
        "red_make"
      ],
      "execution_count": null,
      "outputs": [
        {
          "output_type": "execute_result",
          "data": {
            "text/html": [
              "<div>\n",
              "<style scoped>\n",
              "    .dataframe tbody tr th:only-of-type {\n",
              "        vertical-align: middle;\n",
              "    }\n",
              "\n",
              "    .dataframe tbody tr th {\n",
              "        vertical-align: top;\n",
              "    }\n",
              "\n",
              "    .dataframe thead th {\n",
              "        text-align: right;\n",
              "    }\n",
              "</style>\n",
              "<table border=\"1\" class=\"dataframe\">\n",
              "  <thead>\n",
              "    <tr style=\"text-align: right;\">\n",
              "      <th></th>\n",
              "      <th>% time</th>\n",
              "      <th>seconds</th>\n",
              "      <th>usecs/call</th>\n",
              "      <th>calls</th>\n",
              "      <th>errors</th>\n",
              "      <th>syscall</th>\n",
              "    </tr>\n",
              "  </thead>\n",
              "  <tbody>\n",
              "    <tr>\n",
              "      <th>0</th>\n",
              "      <td>100.00</td>\n",
              "      <td>41.431234</td>\n",
              "      <td>41431234</td>\n",
              "      <td>1</td>\n",
              "      <td>0.0</td>\n",
              "      <td>wait4</td>\n",
              "    </tr>\n",
              "    <tr>\n",
              "      <th>1</th>\n",
              "      <td>0.00</td>\n",
              "      <td>0.000005</td>\n",
              "      <td>5</td>\n",
              "      <td>1</td>\n",
              "      <td>1.0</td>\n",
              "      <td>stat</td>\n",
              "    </tr>\n",
              "    <tr>\n",
              "      <th>2</th>\n",
              "      <td>0.00</td>\n",
              "      <td>0.000004</td>\n",
              "      <td>2</td>\n",
              "      <td>2</td>\n",
              "      <td>0.0</td>\n",
              "      <td>rt_sigprocmask</td>\n",
              "    </tr>\n",
              "    <tr>\n",
              "      <th>3</th>\n",
              "      <td>0.00</td>\n",
              "      <td>0.000004</td>\n",
              "      <td>4</td>\n",
              "      <td>1</td>\n",
              "      <td>0.0</td>\n",
              "      <td>chdir</td>\n",
              "    </tr>\n",
              "    <tr>\n",
              "      <th>4</th>\n",
              "      <td>0.00</td>\n",
              "      <td>0.000002</td>\n",
              "      <td>2</td>\n",
              "      <td>1</td>\n",
              "      <td>0.0</td>\n",
              "      <td>close</td>\n",
              "    </tr>\n",
              "    <tr>\n",
              "      <th>5</th>\n",
              "      <td>100.00</td>\n",
              "      <td>41.431210</td>\n",
              "      <td>41431210</td>\n",
              "      <td>1</td>\n",
              "      <td>0.0</td>\n",
              "      <td>wait4</td>\n",
              "    </tr>\n",
              "    <tr>\n",
              "      <th>6</th>\n",
              "      <td>0.00</td>\n",
              "      <td>0.000000</td>\n",
              "      <td>0</td>\n",
              "      <td>1</td>\n",
              "      <td>0.0</td>\n",
              "      <td>rt_sigreturn</td>\n",
              "    </tr>\n",
              "    <tr>\n",
              "      <th>7</th>\n",
              "      <td>99.97</td>\n",
              "      <td>13.288051</td>\n",
              "      <td>168203</td>\n",
              "      <td>79</td>\n",
              "      <td>0.0</td>\n",
              "      <td>wait4</td>\n",
              "    </tr>\n",
              "    <tr>\n",
              "      <th>8</th>\n",
              "      <td>0.02</td>\n",
              "      <td>0.002032</td>\n",
              "      <td>26</td>\n",
              "      <td>78</td>\n",
              "      <td>0.0</td>\n",
              "      <td>vfork</td>\n",
              "    </tr>\n",
              "    <tr>\n",
              "      <th>9</th>\n",
              "      <td>0.01</td>\n",
              "      <td>0.001276</td>\n",
              "      <td>5</td>\n",
              "      <td>253</td>\n",
              "      <td>80.0</td>\n",
              "      <td>stat</td>\n",
              "    </tr>\n",
              "    <tr>\n",
              "      <th>10</th>\n",
              "      <td>0.00</td>\n",
              "      <td>0.000559</td>\n",
              "      <td>1</td>\n",
              "      <td>310</td>\n",
              "      <td>0.0</td>\n",
              "      <td>rt_sigprocmask</td>\n",
              "    </tr>\n",
              "    <tr>\n",
              "      <th>11</th>\n",
              "      <td>0.00</td>\n",
              "      <td>0.000056</td>\n",
              "      <td>9</td>\n",
              "      <td>6</td>\n",
              "      <td>0.0</td>\n",
              "      <td>getdents64</td>\n",
              "    </tr>\n",
              "    <tr>\n",
              "      <th>12</th>\n",
              "      <td>0.00</td>\n",
              "      <td>0.000041</td>\n",
              "      <td>5</td>\n",
              "      <td>8</td>\n",
              "      <td>4.0</td>\n",
              "      <td>openat</td>\n",
              "    </tr>\n",
              "    <tr>\n",
              "      <th>13</th>\n",
              "      <td>0.00</td>\n",
              "      <td>0.000030</td>\n",
              "      <td>6</td>\n",
              "      <td>5</td>\n",
              "      <td>0.0</td>\n",
              "      <td>brk</td>\n",
              "    </tr>\n",
              "    <tr>\n",
              "      <th>14</th>\n",
              "      <td>0.00</td>\n",
              "      <td>0.000017</td>\n",
              "      <td>3</td>\n",
              "      <td>5</td>\n",
              "      <td>0.0</td>\n",
              "      <td>close</td>\n",
              "    </tr>\n",
              "    <tr>\n",
              "      <th>15</th>\n",
              "      <td>0.00</td>\n",
              "      <td>0.000008</td>\n",
              "      <td>8</td>\n",
              "      <td>1</td>\n",
              "      <td>0.0</td>\n",
              "      <td>write</td>\n",
              "    </tr>\n",
              "    <tr>\n",
              "      <th>16</th>\n",
              "      <td>0.00</td>\n",
              "      <td>0.000008</td>\n",
              "      <td>2</td>\n",
              "      <td>4</td>\n",
              "      <td>0.0</td>\n",
              "      <td>fstat</td>\n",
              "    </tr>\n",
              "    <tr>\n",
              "      <th>17</th>\n",
              "      <td>0.00</td>\n",
              "      <td>0.000006</td>\n",
              "      <td>3</td>\n",
              "      <td>2</td>\n",
              "      <td>0.0</td>\n",
              "      <td>read</td>\n",
              "    </tr>\n",
              "    <tr>\n",
              "      <th>18</th>\n",
              "      <td>0.00</td>\n",
              "      <td>0.000005</td>\n",
              "      <td>5</td>\n",
              "      <td>1</td>\n",
              "      <td>0.0</td>\n",
              "      <td>chdir</td>\n",
              "    </tr>\n",
              "  </tbody>\n",
              "</table>\n",
              "</div>"
            ],
            "text/plain": [
              "    % time    seconds  usecs/call  calls  errors         syscall\n",
              "0   100.00  41.431234    41431234      1     0.0           wait4\n",
              "1     0.00   0.000005           5      1     1.0            stat\n",
              "2     0.00   0.000004           2      2     0.0  rt_sigprocmask\n",
              "3     0.00   0.000004           4      1     0.0           chdir\n",
              "4     0.00   0.000002           2      1     0.0           close\n",
              "5   100.00  41.431210    41431210      1     0.0           wait4\n",
              "6     0.00   0.000000           0      1     0.0    rt_sigreturn\n",
              "7    99.97  13.288051      168203     79     0.0           wait4\n",
              "8     0.02   0.002032          26     78     0.0           vfork\n",
              "9     0.01   0.001276           5    253    80.0            stat\n",
              "10    0.00   0.000559           1    310     0.0  rt_sigprocmask\n",
              "11    0.00   0.000056           9      6     0.0      getdents64\n",
              "12    0.00   0.000041           5      8     4.0          openat\n",
              "13    0.00   0.000030           6      5     0.0             brk\n",
              "14    0.00   0.000017           3      5     0.0           close\n",
              "15    0.00   0.000008           8      1     0.0           write\n",
              "16    0.00   0.000008           2      4     0.0           fstat\n",
              "17    0.00   0.000006           3      2     0.0            read\n",
              "18    0.00   0.000005           5      1     0.0           chdir"
            ]
          },
          "metadata": {
            "tags": []
          },
          "execution_count": 4
        }
      ]
    },
    {
      "cell_type": "code",
      "metadata": {
        "id": "D4pkTxLrA9ji"
      },
      "source": [
        "l=[bashtrace,firefox,reddis,LibreOffice,red_make]"
      ],
      "execution_count": null,
      "outputs": []
    },
    {
      "cell_type": "code",
      "metadata": {
        "colab": {
          "base_uri": "https://localhost:8080/",
          "height": 482
        },
        "id": "zhABJ2_H_k-L",
        "outputId": "9ab9304e-4f35-47ca-95e3-ee6f7f41ad54"
      },
      "source": [
        "#for i in l:\n",
        "fig_dim = (8,8)\n",
        "f, ax = plt.subplots(figsize=fig_dim)\n",
        "quality=firefox[\"syscall\"]\n",
        "size=firefox[\"seconds\"]\n",
        "\n",
        "plt.pie(size,labels=quality,autopct=\"%.1f%%\",explode=[0.05]*len(firefox),pctdistance=0.5)\n",
        "plt.title(\"FireFox Syscalls vs seconds\")\n",
        "plt.show()"
      ],
      "execution_count": null,
      "outputs": [
        {
          "output_type": "display_data",
          "data": {
            "image/png": "[encoded data removed]",
            "text/plain": [
              "<Figure size 576x576 with 1 Axes>"
            ]
          },
          "metadata": {
            "tags": []
          }
        }
      ]
    },
    {
      "cell_type": "code",
      "metadata": {
        "colab": {
          "base_uri": "https://localhost:8080/",
          "height": 482
        },
        "id": "Y63DV5-zBV0O",
        "outputId": "4c804ba0-acbf-4b3d-c397-82256fb9e2b0"
      },
      "source": [
        "fig_dim = (8,8)\n",
        "f, ax = plt.subplots(figsize=fig_dim)\n",
        "quality=reddis[\"syscall\"]\n",
        "size=reddis[\"seconds\"]\n",
        "\n",
        "plt.pie(size,labels=quality,autopct='%1.0f%%',explode=[0.05]*len(reddis))\n",
        "plt.title(\"Reddis Syscalls vs seconds\")\n",
        "plt.show()"
      ],
      "execution_count": null,
      "outputs": [
        {
          "output_type": "display_data",
          "data": {
            "image/png": "[encoded data removed]",
            "text/plain": [
              "<Figure size 576x576 with 1 Axes>"
            ]
          },
          "metadata": {
            "tags": []
          }
        }
      ]
    },
    {
      "cell_type": "code",
      "metadata": {
        "colab": {
          "base_uri": "https://localhost:8080/",
          "height": 482
        },
        "id": "t-wAqrEdCUVj",
        "outputId": "54ad0493-3470-42db-e06c-1aacc4fefdda"
      },
      "source": [
        "fig_dim = (8,8)\n",
        "f, ax = plt.subplots(figsize=fig_dim)\n",
        "quality=LibreOffice[\"syscall\"]\n",
        "size=LibreOffice[\"% time\"]\n",
        "\n",
        "plt.pie(size,labels=quality,autopct='%1.0f%%',explode=[0.05]*len(LibreOffice))\n",
        "plt.title(\"LibreOffice Syscalls vs seconds\")\n",
        "plt.show()"
      ],
      "execution_count": null,
      "outputs": [
        {
          "output_type": "display_data",
          "data": {
            "image/png": "[encoded data removed]",
            "text/plain": [
              "<Figure size 576x576 with 1 Axes>"
            ]
          },
          "metadata": {
            "tags": []
          }
        }
      ]
    },
    {
      "cell_type": "code",
      "metadata": {
        "colab": {
          "base_uri": "https://localhost:8080/",
          "height": 482
        },
        "id": "6AmhtJhDC8Py",
        "outputId": "b197cf6d-c930-41d9-d04c-5ec092c0e7d0"
      },
      "source": [
        "fig_dim = (8,8)\n",
        "f, ax = plt.subplots(figsize=fig_dim)\n",
        "quality=bashtrace[\"syscall\"]\n",
        "size=bashtrace[\"% time\"]\n",
        "\n",
        "plt.pie(size,labels=quality,autopct='%1.0f%%',explode=[0.05]*len(bashtrace))\n",
        "plt.title(\"Bashtrace Syscalls vs seconds\")\n",
        "plt.show()"
      ],
      "execution_count": null,
      "outputs": [
        {
          "output_type": "display_data",
          "data": {
            "image/png": "[encoded data removed]",
            "text/plain": [
              "<Figure size 576x576 with 1 Axes>"
            ]
          },
          "metadata": {
            "tags": []
          }
        }
      ]
    },
    {
      "cell_type": "code",
      "metadata": {
        "id": "UKMVCayBDfWp"
      },
      "source": [
        "df2 = red_make.groupby(['syscall'],as_index=False).sum()"
      ],
      "execution_count": null,
      "outputs": []
    },
    {
      "cell_type": "code",
      "metadata": {
        "colab": {
          "base_uri": "https://localhost:8080/",
          "height": 482
        },
        "id": "N7agwuDfHiZd",
        "outputId": "2e90ca09-5324-480a-9e67-b5ab428b7306"
      },
      "source": [
        "fig_dim = (8,8)\n",
        "f, ax = plt.subplots(figsize=fig_dim)\n",
        "quality=df2[\"syscall\"]\n",
        "size=df2[\"seconds\"]\n",
        "\n",
        "plt.pie(size,labels=quality,autopct='%1.0f%%',explode=[0.05]*len(df2))\n",
        "plt.title(\"Reddis make(1,2,3) Syscalls vs seconds\")\n",
        "plt.show()"
      ],
      "execution_count": null,
      "outputs": [
        {
          "output_type": "display_data",
          "data": {
            "image/png": "[encoded data removed]",
            "text/plain": [
              "<Figure size 576x576 with 1 Axes>"
            ]
          },
          "metadata": {
            "tags": []
          }
        }
      ]
    },
    {
      "cell_type": "code",
      "metadata": {
        "id": "lkTl1-VBHjM2"
      },
      "source": [
        "df2.drop('% time',\n",
        "  axis='columns', inplace=True)"
      ],
      "execution_count": null,
      "outputs": []
    },
    {
      "cell_type": "code",
      "metadata": {
        "colab": {
          "base_uri": "https://localhost:8080/",
          "height": 432
        },
        "id": "5FIEuVcOH2i9",
        "outputId": "704003fa-fe24-413f-9a13-abfda0f88275"
      },
      "source": [
        "df2"
      ],
      "execution_count": null,
      "outputs": [
        {
          "output_type": "execute_result",
          "data": {
            "text/html": [
              "<div>\n",
              "<style scoped>\n",
              "    .dataframe tbody tr th:only-of-type {\n",
              "        vertical-align: middle;\n",
              "    }\n",
              "\n",
              "    .dataframe tbody tr th {\n",
              "        vertical-align: top;\n",
              "    }\n",
              "\n",
              "    .dataframe thead th {\n",
              "        text-align: right;\n",
              "    }\n",
              "</style>\n",
              "<table border=\"1\" class=\"dataframe\">\n",
              "  <thead>\n",
              "    <tr style=\"text-align: right;\">\n",
              "      <th></th>\n",
              "      <th>syscall</th>\n",
              "      <th>seconds</th>\n",
              "      <th>usecs/call</th>\n",
              "      <th>calls</th>\n",
              "      <th>errors</th>\n",
              "    </tr>\n",
              "  </thead>\n",
              "  <tbody>\n",
              "    <tr>\n",
              "      <th>0</th>\n",
              "      <td>brk</td>\n",
              "      <td>0.000030</td>\n",
              "      <td>6</td>\n",
              "      <td>5</td>\n",
              "      <td>0.0</td>\n",
              "    </tr>\n",
              "    <tr>\n",
              "      <th>1</th>\n",
              "      <td>chdir</td>\n",
              "      <td>0.000009</td>\n",
              "      <td>9</td>\n",
              "      <td>2</td>\n",
              "      <td>0.0</td>\n",
              "    </tr>\n",
              "    <tr>\n",
              "      <th>2</th>\n",
              "      <td>close</td>\n",
              "      <td>0.000019</td>\n",
              "      <td>5</td>\n",
              "      <td>6</td>\n",
              "      <td>0.0</td>\n",
              "    </tr>\n",
              "    <tr>\n",
              "      <th>3</th>\n",
              "      <td>fstat</td>\n",
              "      <td>0.000008</td>\n",
              "      <td>2</td>\n",
              "      <td>4</td>\n",
              "      <td>0.0</td>\n",
              "    </tr>\n",
              "    <tr>\n",
              "      <th>4</th>\n",
              "      <td>getdents64</td>\n",
              "      <td>0.000056</td>\n",
              "      <td>9</td>\n",
              "      <td>6</td>\n",
              "      <td>0.0</td>\n",
              "    </tr>\n",
              "    <tr>\n",
              "      <th>5</th>\n",
              "      <td>openat</td>\n",
              "      <td>0.000041</td>\n",
              "      <td>5</td>\n",
              "      <td>8</td>\n",
              "      <td>4.0</td>\n",
              "    </tr>\n",
              "    <tr>\n",
              "      <th>6</th>\n",
              "      <td>read</td>\n",
              "      <td>0.000006</td>\n",
              "      <td>3</td>\n",
              "      <td>2</td>\n",
              "      <td>0.0</td>\n",
              "    </tr>\n",
              "    <tr>\n",
              "      <th>7</th>\n",
              "      <td>rt_sigprocmask</td>\n",
              "      <td>0.000563</td>\n",
              "      <td>3</td>\n",
              "      <td>312</td>\n",
              "      <td>0.0</td>\n",
              "    </tr>\n",
              "    <tr>\n",
              "      <th>8</th>\n",
              "      <td>rt_sigreturn</td>\n",
              "      <td>0.000000</td>\n",
              "      <td>0</td>\n",
              "      <td>1</td>\n",
              "      <td>0.0</td>\n",
              "    </tr>\n",
              "    <tr>\n",
              "      <th>9</th>\n",
              "      <td>stat</td>\n",
              "      <td>0.001281</td>\n",
              "      <td>10</td>\n",
              "      <td>254</td>\n",
              "      <td>81.0</td>\n",
              "    </tr>\n",
              "    <tr>\n",
              "      <th>10</th>\n",
              "      <td>vfork</td>\n",
              "      <td>0.002032</td>\n",
              "      <td>26</td>\n",
              "      <td>78</td>\n",
              "      <td>0.0</td>\n",
              "    </tr>\n",
              "    <tr>\n",
              "      <th>11</th>\n",
              "      <td>wait4</td>\n",
              "      <td>96.150495</td>\n",
              "      <td>83030647</td>\n",
              "      <td>81</td>\n",
              "      <td>0.0</td>\n",
              "    </tr>\n",
              "    <tr>\n",
              "      <th>12</th>\n",
              "      <td>write</td>\n",
              "      <td>0.000008</td>\n",
              "      <td>8</td>\n",
              "      <td>1</td>\n",
              "      <td>0.0</td>\n",
              "    </tr>\n",
              "  </tbody>\n",
              "</table>\n",
              "</div>"
            ],
            "text/plain": [
              "           syscall    seconds  usecs/call  calls  errors\n",
              "0              brk   0.000030           6      5     0.0\n",
              "1            chdir   0.000009           9      2     0.0\n",
              "2            close   0.000019           5      6     0.0\n",
              "3            fstat   0.000008           2      4     0.0\n",
              "4       getdents64   0.000056           9      6     0.0\n",
              "5           openat   0.000041           5      8     4.0\n",
              "6             read   0.000006           3      2     0.0\n",
              "7   rt_sigprocmask   0.000563           3    312     0.0\n",
              "8     rt_sigreturn   0.000000           0      1     0.0\n",
              "9             stat   0.001281          10    254    81.0\n",
              "10           vfork   0.002032          26     78     0.0\n",
              "11           wait4  96.150495    83030647     81     0.0\n",
              "12           write   0.000008           8      1     0.0"
            ]
          },
          "metadata": {
            "tags": []
          },
          "execution_count": 13
        }
      ]
    },
    {
      "cell_type": "code",
      "metadata": {
        "colab": {
          "base_uri": "https://localhost:8080/",
          "height": 432
        },
        "id": "hNU7DqMTIHJU",
        "outputId": "a5b9b48f-99c4-46a7-f5c6-35bdcdbf7b7c"
      },
      "source": [
        "df2"
      ],
      "execution_count": null,
      "outputs": [
        {
          "output_type": "execute_result",
          "data": {
            "text/html": [
              "<div>\n",
              "<style scoped>\n",
              "    .dataframe tbody tr th:only-of-type {\n",
              "        vertical-align: middle;\n",
              "    }\n",
              "\n",
              "    .dataframe tbody tr th {\n",
              "        vertical-align: top;\n",
              "    }\n",
              "\n",
              "    .dataframe thead th {\n",
              "        text-align: right;\n",
              "    }\n",
              "</style>\n",
              "<table border=\"1\" class=\"dataframe\">\n",
              "  <thead>\n",
              "    <tr style=\"text-align: right;\">\n",
              "      <th></th>\n",
              "      <th>syscall</th>\n",
              "      <th>seconds</th>\n",
              "      <th>usecs/call</th>\n",
              "      <th>calls</th>\n",
              "      <th>errors</th>\n",
              "    </tr>\n",
              "  </thead>\n",
              "  <tbody>\n",
              "    <tr>\n",
              "      <th>0</th>\n",
              "      <td>brk</td>\n",
              "      <td>0.000030</td>\n",
              "      <td>6</td>\n",
              "      <td>5</td>\n",
              "      <td>0.0</td>\n",
              "    </tr>\n",
              "    <tr>\n",
              "      <th>1</th>\n",
              "      <td>chdir</td>\n",
              "      <td>0.000009</td>\n",
              "      <td>9</td>\n",
              "      <td>2</td>\n",
              "      <td>0.0</td>\n",
              "    </tr>\n",
              "    <tr>\n",
              "      <th>2</th>\n",
              "      <td>close</td>\n",
              "      <td>0.000019</td>\n",
              "      <td>5</td>\n",
              "      <td>6</td>\n",
              "      <td>0.0</td>\n",
              "    </tr>\n",
              "    <tr>\n",
              "      <th>3</th>\n",
              "      <td>fstat</td>\n",
              "      <td>0.000008</td>\n",
              "      <td>2</td>\n",
              "      <td>4</td>\n",
              "      <td>0.0</td>\n",
              "    </tr>\n",
              "    <tr>\n",
              "      <th>4</th>\n",
              "      <td>getdents64</td>\n",
              "      <td>0.000056</td>\n",
              "      <td>9</td>\n",
              "      <td>6</td>\n",
              "      <td>0.0</td>\n",
              "    </tr>\n",
              "    <tr>\n",
              "      <th>5</th>\n",
              "      <td>openat</td>\n",
              "      <td>0.000041</td>\n",
              "      <td>5</td>\n",
              "      <td>8</td>\n",
              "      <td>4.0</td>\n",
              "    </tr>\n",
              "    <tr>\n",
              "      <th>6</th>\n",
              "      <td>read</td>\n",
              "      <td>0.000006</td>\n",
              "      <td>3</td>\n",
              "      <td>2</td>\n",
              "      <td>0.0</td>\n",
              "    </tr>\n",
              "    <tr>\n",
              "      <th>7</th>\n",
              "      <td>rt_sigprocmask</td>\n",
              "      <td>0.000563</td>\n",
              "      <td>3</td>\n",
              "      <td>312</td>\n",
              "      <td>0.0</td>\n",
              "    </tr>\n",
              "    <tr>\n",
              "      <th>8</th>\n",
              "      <td>rt_sigreturn</td>\n",
              "      <td>0.000000</td>\n",
              "      <td>0</td>\n",
              "      <td>1</td>\n",
              "      <td>0.0</td>\n",
              "    </tr>\n",
              "    <tr>\n",
              "      <th>9</th>\n",
              "      <td>stat</td>\n",
              "      <td>0.001281</td>\n",
              "      <td>10</td>\n",
              "      <td>254</td>\n",
              "      <td>81.0</td>\n",
              "    </tr>\n",
              "    <tr>\n",
              "      <th>10</th>\n",
              "      <td>vfork</td>\n",
              "      <td>0.002032</td>\n",
              "      <td>26</td>\n",
              "      <td>78</td>\n",
              "      <td>0.0</td>\n",
              "    </tr>\n",
              "    <tr>\n",
              "      <th>11</th>\n",
              "      <td>wait4</td>\n",
              "      <td>96.150495</td>\n",
              "      <td>83030647</td>\n",
              "      <td>81</td>\n",
              "      <td>0.0</td>\n",
              "    </tr>\n",
              "    <tr>\n",
              "      <th>12</th>\n",
              "      <td>write</td>\n",
              "      <td>0.000008</td>\n",
              "      <td>8</td>\n",
              "      <td>1</td>\n",
              "      <td>0.0</td>\n",
              "    </tr>\n",
              "  </tbody>\n",
              "</table>\n",
              "</div>"
            ],
            "text/plain": [
              "           syscall    seconds  usecs/call  calls  errors\n",
              "0              brk   0.000030           6      5     0.0\n",
              "1            chdir   0.000009           9      2     0.0\n",
              "2            close   0.000019           5      6     0.0\n",
              "3            fstat   0.000008           2      4     0.0\n",
              "4       getdents64   0.000056           9      6     0.0\n",
              "5           openat   0.000041           5      8     4.0\n",
              "6             read   0.000006           3      2     0.0\n",
              "7   rt_sigprocmask   0.000563           3    312     0.0\n",
              "8     rt_sigreturn   0.000000           0      1     0.0\n",
              "9             stat   0.001281          10    254    81.0\n",
              "10           vfork   0.002032          26     78     0.0\n",
              "11           wait4  96.150495    83030647     81     0.0\n",
              "12           write   0.000008           8      1     0.0"
            ]
          },
          "metadata": {
            "tags": []
          },
          "execution_count": 14
        }
      ]
    },
    {
      "cell_type": "code",
      "metadata": {
        "id": "doCIWbLfXoKb"
      },
      "source": [
        "bash_hold = bash_lock['holdtime-total'].sum()\n",
        "bash_wait = bash_lock['waittime-total'].sum()\n",
        "firefox_wait = firefox_lockstat['waittime-total'].sum()\n",
        "firefox_hold = firefox_lockstat['holdtime-total'].sum()\n",
        "redisbench_hold = redisbenchmark_lockstat['holdtime-total'].sum()\n",
        "redisbench_wait = redisbenchmark_lockstat['waittime-total'].sum()\n",
        "libre_hold = libreofficewriter_lockstat['holdtime-total'].sum()\n",
        "libre_wait = libreofficewriter_lockstat['waittime-total'].sum()\n",
        "rediscompile_hold = rediscompile_lockstat['holdtime-total'].sum()\n",
        "rediscompile_wait = rediscompile_lockstat['waittime-total'].sum()"
      ],
      "execution_count": null,
      "outputs": []
    },
    {
      "cell_type": "code",
      "metadata": {
        "id": "tnyv9EUrYwwn"
      },
      "source": [
        "total_wait = firefox_wait + redisbench_wait+  libre_wait + rediscompile_wait + bash_wait"
      ],
      "execution_count": null,
      "outputs": []
    },
    {
      "cell_type": "code",
      "metadata": {
        "id": "WYRoIDESZ0us"
      },
      "source": [
        "total_hold = firefox_hold + redisbench_hold+  libre_hold + rediscompile_hold + bash_hold"
      ],
      "execution_count": null,
      "outputs": []
    },
    {
      "cell_type": "code",
      "metadata": {
        "colab": {
          "base_uri": "https://localhost:8080/"
        },
        "id": "VYdArA7iZFzP",
        "outputId": "3dde507c-3a85-4ef4-db99-0dc17e0cfdfd"
      },
      "source": [
        "print(total_wait)"
      ],
      "execution_count": null,
      "outputs": [
        {
          "output_type": "stream",
          "text": [
            "1788414.3000000003\n"
          ],
          "name": "stdout"
        }
      ]
    },
    {
      "cell_type": "code",
      "metadata": {
        "colab": {
          "base_uri": "https://localhost:8080/"
        },
        "id": "Gygz_iqTZz0H",
        "outputId": "76997c41-a9ec-4f49-fe78-4f9fa1a2ab2d"
      },
      "source": [
        "print(total_hold)"
      ],
      "execution_count": null,
      "outputs": [
        {
          "output_type": "stream",
          "text": [
            "6581410963.889999\n"
          ],
          "name": "stdout"
        }
      ]
    },
    {
      "cell_type": "code",
      "metadata": {
        "id": "S7mRKJUNaUr3"
      },
      "source": [
        "hold_times = [firefox_hold , redisbench_hold,  libre_hold , rediscompile_hold ,bash_hold]\n",
        "wait_times = [firefox_wait , redisbench_wait,  libre_wait , rediscompile_wait , bash_wait]\n",
        "titles = ['firefox','redisbench','libreoffice','rediscompile','bash']"
      ],
      "execution_count": null,
      "outputs": []
    },
    {
      "cell_type": "code",
      "metadata": {
        "id": "HzLJ9rdFah3E"
      },
      "source": [
        "lock_df = pd.DataFrame(list(zip(titles,hold_times, wait_times)),columns =['Process', 'Hold time','Wait Time'])"
      ],
      "execution_count": null,
      "outputs": []
    },
    {
      "cell_type": "code",
      "metadata": {
        "colab": {
          "base_uri": "https://localhost:8080/",
          "height": 195
        },
        "id": "tUuJTKxNa_zN",
        "outputId": "f7de44f2-e741-45b3-9df1-1ef491e69128"
      },
      "source": [
        "lock_df"
      ],
      "execution_count": null,
      "outputs": [
        {
          "output_type": "execute_result",
          "data": {
            "text/html": [
              "<div>\n",
              "<style scoped>\n",
              "    .dataframe tbody tr th:only-of-type {\n",
              "        vertical-align: middle;\n",
              "    }\n",
              "\n",
              "    .dataframe tbody tr th {\n",
              "        vertical-align: top;\n",
              "    }\n",
              "\n",
              "    .dataframe thead th {\n",
              "        text-align: right;\n",
              "    }\n",
              "</style>\n",
              "<table border=\"1\" class=\"dataframe\">\n",
              "  <thead>\n",
              "    <tr style=\"text-align: right;\">\n",
              "      <th></th>\n",
              "      <th>Process</th>\n",
              "      <th>Hold time</th>\n",
              "      <th>Wait Time</th>\n",
              "    </tr>\n",
              "  </thead>\n",
              "  <tbody>\n",
              "    <tr>\n",
              "      <th>0</th>\n",
              "      <td>firefox</td>\n",
              "      <td>4.966728e+07</td>\n",
              "      <td>1512782.60</td>\n",
              "    </tr>\n",
              "    <tr>\n",
              "      <th>1</th>\n",
              "      <td>redisbench</td>\n",
              "      <td>3.343061e+08</td>\n",
              "      <td>234920.26</td>\n",
              "    </tr>\n",
              "    <tr>\n",
              "      <th>2</th>\n",
              "      <td>libreoffice</td>\n",
              "      <td>6.141706e+09</td>\n",
              "      <td>11854.07</td>\n",
              "    </tr>\n",
              "    <tr>\n",
              "      <th>3</th>\n",
              "      <td>rediscompile</td>\n",
              "      <td>5.511179e+07</td>\n",
              "      <td>27118.79</td>\n",
              "    </tr>\n",
              "    <tr>\n",
              "      <th>4</th>\n",
              "      <td>bash</td>\n",
              "      <td>6.198060e+05</td>\n",
              "      <td>1738.58</td>\n",
              "    </tr>\n",
              "  </tbody>\n",
              "</table>\n",
              "</div>"
            ],
            "text/plain": [
              "        Process     Hold time   Wait Time\n",
              "0       firefox  4.966728e+07  1512782.60\n",
              "1    redisbench  3.343061e+08   234920.26\n",
              "2   libreoffice  6.141706e+09    11854.07\n",
              "3  rediscompile  5.511179e+07    27118.79\n",
              "4          bash  6.198060e+05     1738.58"
            ]
          },
          "metadata": {
            "tags": []
          },
          "execution_count": 22
        }
      ]
    },
    {
      "cell_type": "code",
      "metadata": {
        "colab": {
          "base_uri": "https://localhost:8080/",
          "height": 285
        },
        "id": "LPDRuaohaNyb",
        "outputId": "6bcef737-805d-40b7-f5c6-54f44b37d2fc"
      },
      "source": [
        "sns.set_theme(style=\"darkgrid\")\n",
        "ax = sns.barplot(x=\"Process\", y=\"Hold time\", data=lock_df)\n",
        "plt.yscale(\"log\")\n",
        "plt.show()"
      ],
      "execution_count": null,
      "outputs": [
        {
          "output_type": "display_data",
          "data": {
            "image/png": "[encoded data removed]",
            "text/plain": [
              "<Figure size 432x288 with 1 Axes>"
            ]
          },
          "metadata": {
            "tags": []
          }
        }
      ]
    },
    {
      "cell_type": "code",
      "metadata": {
        "colab": {
          "base_uri": "https://localhost:8080/",
          "height": 285
        },
        "id": "uFdStLtwbOF0",
        "outputId": "52c8b37c-52f9-489c-8e10-bb0f5b2c0a77"
      },
      "source": [
        "sns.set_theme(style=\"whitegrid\")\n",
        "ax = sns.barplot(x=\"Process\", y=\"Wait Time\", data=lock_df)\n",
        "plt.yscale(\"log\")\n",
        "plt.show()"
      ],
      "execution_count": null,
      "outputs": [
        {
          "output_type": "display_data",
          "data": {
            "image/png": "[encoded data removed]",
            "text/plain": [
              "<Figure size 432x288 with 1 Axes>"
            ]
          },
          "metadata": {
            "tags": []
          }
        }
      ]
    }
  ]
}